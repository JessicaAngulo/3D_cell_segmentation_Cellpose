{
 "cells": [
  {
   "cell_type": "code",
   "execution_count": null,
   "id": "1461ec66-9971-43c0-ae66-d9db525c1969",
   "metadata": {},
   "outputs": [],
   "source": [
    "# Clone the GitHub repo\n",
    "!git clone --branch Colab https://github.com/JessicaAngulo/3D_cell_segmentation_Cellpose.git\n",
    "# Change into the repo folder\n",
    "%cd 3D_cell_segmentation_Cellpose"
   ]
  },
  {
   "cell_type": "markdown",
   "id": "bd67f6c2-3da5-47da-bb7a-e8e5915c9b55",
   "metadata": {},
   "source": [
    "1) Segmentation"
   ]
  },
  {
   "cell_type": "code",
   "execution_count": 1,
   "id": "a05a169a",
   "metadata": {},
   "outputs": [],
   "source": [
    "!pip install cellpose tifffile napari[all] scikit-image"
   ]
  },
  {
   "cell_type": "code",
   "execution_count": 1,
   "id": "b88126f4",
   "metadata": {},
   "outputs": [
    {
     "name": "stdout",
     "output_type": "stream",
     "text": [
      "\n",
      "\n",
      "Welcome to CellposeSAM, cellpose v\n",
      "cellpose version: \t4.0.4 \n",
      "platform:       \tlinux \n",
      "python version: \t3.10.17 \n",
      "torch version:  \t2.7.0! The neural network component of\n",
      "CPSAM is much larger than in previous versions and CPU excution is slow. \n",
      "We encourage users to use GPU/MPS if available. \n",
      "\n",
      "\n"
     ]
    }
   ],
   "source": [
    "from Load_tiffs import Segmentator\n",
    "import tifffile\n",
    "import napari\n",
    "import numpy as np"
   ]
  },
  {
   "cell_type": "markdown",
   "id": "e8c3514f-bc5a-456f-982e-7273eb36f5ac",
   "metadata": {},
   "source": [
    "Select the parameters that best fit your data. "
   ]
  },
  {
   "cell_type": "code",
   "execution_count": 2,
   "id": "2a4ef721-f532-4970-a529-8fe5e5a232f8",
   "metadata": {},
   "outputs": [
    {
     "name": "stderr",
     "output_type": "stream",
     "text": [
      "model_type argument is not used in v4.0.1+. Ignoring this argument...\n"
     ]
    }
   ],
   "source": [
    "segmentator = Segmentator(\n",
    "    segmentation_type=2, \n",
    "    cell_diameter=100,\n",
    "    model_type='cyto3',\n",
    "    flow_threshold = 0.3,\n",
    "    stitch_threshold = 0.1,\n",
    "    skip=False,\n",
    "    use_gpu=True\n",
    ")"
   ]
  },
  {
   "cell_type": "code",
   "execution_count": 3,
   "id": "d355c74c",
   "metadata": {},
   "outputs": [],
   "source": [
    "image = segmentator.load_images()"
   ]
  },
  {
   "cell_type": "code",
   "execution_count": 4,
   "id": "340c952e",
   "metadata": {},
   "outputs": [
    {
     "name": "stderr",
     "output_type": "stream",
     "text": [
      "channels deprecated in v4.0.1+. If data contain more than 3 channels, only the first 3 channels will be used\n",
      "channels deprecated in v4.0.1+. If data contain more than 3 channels, only the first 3 channels will be used\n",
      "channels deprecated in v4.0.1+. If data contain more than 3 channels, only the first 3 channels will be used\n",
      "channels deprecated in v4.0.1+. If data contain more than 3 channels, only the first 3 channels will be used\n",
      "channels deprecated in v4.0.1+. If data contain more than 3 channels, only the first 3 channels will be used\n",
      "channels deprecated in v4.0.1+. If data contain more than 3 channels, only the first 3 channels will be used\n",
      "channels deprecated in v4.0.1+. If data contain more than 3 channels, only the first 3 channels will be used\n",
      "channels deprecated in v4.0.1+. If data contain more than 3 channels, only the first 3 channels will be used\n",
      "channels deprecated in v4.0.1+. If data contain more than 3 channels, only the first 3 channels will be used\n",
      "channels deprecated in v4.0.1+. If data contain more than 3 channels, only the first 3 channels will be used\n",
      "channels deprecated in v4.0.1+. If data contain more than 3 channels, only the first 3 channels will be used\n",
      "channels deprecated in v4.0.1+. If data contain more than 3 channels, only the first 3 channels will be used\n",
      "channels deprecated in v4.0.1+. If data contain more than 3 channels, only the first 3 channels will be used\n",
      "channels deprecated in v4.0.1+. If data contain more than 3 channels, only the first 3 channels will be used\n",
      "channels deprecated in v4.0.1+. If data contain more than 3 channels, only the first 3 channels will be used\n",
      "channels deprecated in v4.0.1+. If data contain more than 3 channels, only the first 3 channels will be used\n",
      "channels deprecated in v4.0.1+. If data contain more than 3 channels, only the first 3 channels will be used\n",
      "channels deprecated in v4.0.1+. If data contain more than 3 channels, only the first 3 channels will be used\n",
      "channels deprecated in v4.0.1+. If data contain more than 3 channels, only the first 3 channels will be used\n",
      "channels deprecated in v4.0.1+. If data contain more than 3 channels, only the first 3 channels will be used\n",
      "channels deprecated in v4.0.1+. If data contain more than 3 channels, only the first 3 channels will be used\n"
     ]
    }
   ],
   "source": [
    "masks_3d = segmentator.segmentate_image(image)"
   ]
  },
  {
   "cell_type": "code",
   "execution_count": 5,
   "id": "b29f9de2",
   "metadata": {},
   "outputs": [],
   "source": [
    "tifffile.imwrite('cell_masks_2d.tif', masks_3d.astype(np.uint16))\n",
    "tifffile.imwrite('cell_masks_2d.tif', image.astype(np.uint16))"
   ]
  },
  {
   "cell_type": "code",
   "execution_count": 6,
   "id": "a9fdad91",
   "metadata": {},
   "outputs": [],
   "source": [
    "viewer = napari.Viewer()\n",
    "viewer.add_image(image, name='raw', channel_axis=-1)\n",
    "viewer.add_labels(masks_3d, name='cell mask 3d')\n",
    "napari.run()"
   ]
  },
  {
   "cell_type": "markdown",
   "id": "a7c9204c-8844-44ca-9c96-09267aa4d2c2",
   "metadata": {},
   "source": [
    "2. Calculate cell volume and diameter. "
   ]
  },
  {
   "cell_type": "code",
   "execution_count": 12,
   "id": "e3bdfda6-a7cc-498d-b1e1-a1d875fc0375",
   "metadata": {},
   "outputs": [],
   "source": [
    "import pandas as pd\n",
    "import matplotlib.pyplot as plt"
   ]
  },
  {
   "cell_type": "code",
   "execution_count": 8,
   "id": "a10c83e1-3db7-4223-8582-a0a8eb3ab200",
   "metadata": {},
   "outputs": [],
   "source": [
    "# Exclude background (label 0)\n",
    "labels = np.unique(masks_3d)\n",
    "labels = labels[labels != 0]\n",
    "\n",
    "# Count voxels per label\n",
    "voxel_counts = [(label, np.sum(masks_3d == label)) for label in labels] #(label_id, voxel_count)"
   ]
  },
  {
   "cell_type": "code",
   "execution_count": 9,
   "id": "3504bb1d-1eeb-48ab-9b61-6c0a9fcd6cbe",
   "metadata": {},
   "outputs": [
    {
     "data": {
      "text/html": [
       "<div>\n",
       "<style scoped>\n",
       "    .dataframe tbody tr th:only-of-type {\n",
       "        vertical-align: middle;\n",
       "    }\n",
       "\n",
       "    .dataframe tbody tr th {\n",
       "        vertical-align: top;\n",
       "    }\n",
       "\n",
       "    .dataframe thead th {\n",
       "        text-align: right;\n",
       "    }\n",
       "</style>\n",
       "<table border=\"1\" class=\"dataframe\">\n",
       "  <thead>\n",
       "    <tr style=\"text-align: right;\">\n",
       "      <th></th>\n",
       "      <th>label</th>\n",
       "      <th>voxel_count</th>\n",
       "      <th>volume_um3</th>\n",
       "    </tr>\n",
       "  </thead>\n",
       "  <tbody>\n",
       "    <tr>\n",
       "      <th>0</th>\n",
       "      <td>1</td>\n",
       "      <td>48154</td>\n",
       "      <td>12038.50</td>\n",
       "    </tr>\n",
       "    <tr>\n",
       "      <th>1</th>\n",
       "      <td>2</td>\n",
       "      <td>98298</td>\n",
       "      <td>24574.50</td>\n",
       "    </tr>\n",
       "    <tr>\n",
       "      <th>2</th>\n",
       "      <td>3</td>\n",
       "      <td>40819</td>\n",
       "      <td>10204.75</td>\n",
       "    </tr>\n",
       "    <tr>\n",
       "      <th>3</th>\n",
       "      <td>4</td>\n",
       "      <td>45687</td>\n",
       "      <td>11421.75</td>\n",
       "    </tr>\n",
       "    <tr>\n",
       "      <th>4</th>\n",
       "      <td>5</td>\n",
       "      <td>100069</td>\n",
       "      <td>25017.25</td>\n",
       "    </tr>\n",
       "  </tbody>\n",
       "</table>\n",
       "</div>"
      ],
      "text/plain": [
       "   label  voxel_count  volume_um3\n",
       "0      1        48154    12038.50\n",
       "1      2        98298    24574.50\n",
       "2      3        40819    10204.75\n",
       "3      4        45687    11421.75\n",
       "4      5       100069    25017.25"
      ]
     },
     "execution_count": 9,
     "metadata": {},
     "output_type": "execute_result"
    }
   ],
   "source": [
    "z_spacing = 1.0     # in microns (change to your actual value)\n",
    "xy_spacing = 0.5    # in microns\n",
    "\n",
    "voxel_volume_um3 = z_spacing * xy_spacing * xy_spacing\n",
    "\n",
    "data = {\n",
    "    'label': [label for label, count in voxel_counts],\n",
    "    'voxel_count': [count for label, count in voxel_counts],\n",
    "    'volume_um3': [count * voxel_volume_um3 for label, count in voxel_counts]\n",
    "}\n",
    "\n",
    "df = pd.DataFrame(data)\n",
    "df.head()"
   ]
  },
  {
   "cell_type": "code",
   "execution_count": 11,
   "id": "fa1db682-f8db-48b5-8781-09de2fe82fb3",
   "metadata": {},
   "outputs": [],
   "source": [
    "# Save to CSV\n",
    "csv_path = 'cell_volumes.csv'\n",
    "df.to_csv(csv_path, index=False)"
   ]
  },
  {
   "cell_type": "code",
   "execution_count": 13,
   "id": "30339828-9722-46b3-9edb-a5007913a8bc",
   "metadata": {},
   "outputs": [
    {
     "data": {
      "image/png": "[encoded data removed]",
      "text/plain": [
       "<Figure size 640x480 with 1 Axes>"
      ]
     },
     "metadata": {},
     "output_type": "display_data"
    }
   ],
   "source": [
    "# Plot histogram of volumes\n",
    "plt.figure()\n",
    "plt.hist(df['volume_um3'], bins=30)\n",
    "plt.xlabel('Cell Volume (µm³)')\n",
    "plt.ylabel('Number of Cells')\n",
    "plt.title('Distribution of Cell Volumes')\n",
    "plt.grid(True)\n",
    "plt.show()"
   ]
  },
  {
   "cell_type": "code",
   "execution_count": null,
   "id": "ca8343a5-e3da-4571-b3bd-36c92dd55f74",
   "metadata": {},
   "outputs": [],
   "source": []
  }
 ],
 "metadata": {
  "kernelspec": {
   "display_name": "Python 3 (ipykernel)",
   "language": "python",
   "name": "python3"
  },
  "language_info": {
   "codemirror_mode": {
    "name": "ipython",
    "version": 3
   },
   "file_extension": ".py",
   "mimetype": "text/x-python",
   "name": "python",
   "nbconvert_exporter": "python",
   "pygments_lexer": "ipython3",
   "version": "3.10.17"
  }
 },
 "nbformat": 4,
 "nbformat_minor": 5
}
