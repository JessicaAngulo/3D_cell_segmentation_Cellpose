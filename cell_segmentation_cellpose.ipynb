{
  "cells": [
    {
      "cell_type": "markdown",
      "metadata": {
        "id": "view-in-github",
        "colab_type": "text"
      },
      "source": [
        "<a href=\"https://colab.research.google.com/github/JessicaAngulo/3D_cell_segmentation_Cellpose/blob/Colab/cell_segmentation_cellpose.ipynb\" target=\"_parent\"><img src=\"https://colab.research.google.com/assets/colab-badge.svg\" alt=\"Open In Colab\"/></a>"
      ]
    },
    {
      "cell_type": "code",
      "execution_count": 1,
      "id": "1461ec66-9971-43c0-ae66-d9db525c1969",
      "metadata": {
        "colab": {
          "base_uri": "https://localhost:8080/"
        },
        "id": "1461ec66-9971-43c0-ae66-d9db525c1969",
        "outputId": "1cabe058-7333-4ffa-bbee-2f5de3fa492b"
      },
      "outputs": [
        {
          "output_type": "stream",
          "name": "stdout",
          "text": [
            "Cloning into '3D_cell_segmentation_Cellpose'...\n",
            "remote: Enumerating objects: 50, done.\u001b[K\n",
            "remote: Counting objects: 100% (26/26), done.\u001b[K\n",
            "remote: Compressing objects: 100% (19/19), done.\u001b[K\n",
            "remote: Total 50 (delta 11), reused 7 (delta 6), pack-reused 24 (from 1)\u001b[K\n",
            "Receiving objects: 100% (50/50), 61.50 MiB | 7.09 MiB/s, done.\n",
            "Resolving deltas: 100% (18/18), done.\n",
            "/content/3D_cell_segmentation_Cellpose\n"
          ]
        }
      ],
      "source": [
        "# Clone the GitHub repo\n",
        "!git clone --branch Colab https://github.com/JessicaAngulo/3D_cell_segmentation_Cellpose.git"
      ]
    },
    {
      "cell_type": "code",
      "source": [
        "# Change into the repo folder\n",
        "%cd 3D_cell_segmentation_Cellpose"
      ],
      "metadata": {
        "colab": {
          "base_uri": "https://localhost:8080/"
        },
        "id": "TaTYAqTWBy2L",
        "outputId": "d917cbc9-e22a-40e4-ebf3-d0947a9b3fc8"
      },
      "id": "TaTYAqTWBy2L",
      "execution_count": 3,
      "outputs": [
        {
          "output_type": "stream",
          "name": "stdout",
          "text": [
            "/content/3D_cell_segmentation_Cellpose\n"
          ]
        }
      ]
    },
    {
      "cell_type": "markdown",
      "id": "bd67f6c2-3da5-47da-bb7a-e8e5915c9b55",
      "metadata": {
        "id": "bd67f6c2-3da5-47da-bb7a-e8e5915c9b55"
      },
      "source": [
        "1) Segmentation"
      ]
    },
    {
      "cell_type": "code",
      "execution_count": 4,
      "id": "a05a169a",
      "metadata": {
        "colab": {
          "base_uri": "https://localhost:8080/"
        },
        "id": "a05a169a",
        "outputId": "8f50c940-df42-4f59-d1d0-7742f081529c"
      },
      "outputs": [
        {
          "output_type": "stream",
          "name": "stdout",
          "text": [
            "Requirement already satisfied: cellpose in /usr/local/lib/python3.11/dist-packages (4.0.4)\n",
            "Requirement already satisfied: tifffile in /usr/local/lib/python3.11/dist-packages (2025.5.26)\n",
            "Requirement already satisfied: scikit-image in /usr/local/lib/python3.11/dist-packages (0.25.2)\n",
            "Requirement already satisfied: numpy>=1.20.0 in /usr/local/lib/python3.11/dist-packages (from cellpose) (2.0.2)\n",
            "Requirement already satisfied: scipy in /usr/local/lib/python3.11/dist-packages (from cellpose) (1.15.3)\n",
            "Requirement already satisfied: natsort in /usr/local/lib/python3.11/dist-packages (from cellpose) (8.4.0)\n",
            "Requirement already satisfied: tqdm in /usr/local/lib/python3.11/dist-packages (from cellpose) (4.67.1)\n",
            "Requirement already satisfied: torch>=1.6 in /usr/local/lib/python3.11/dist-packages (from cellpose) (2.6.0+cu124)\n",
            "Requirement already satisfied: torchvision in /usr/local/lib/python3.11/dist-packages (from cellpose) (0.21.0+cu124)\n",
            "Requirement already satisfied: opencv-python-headless in /usr/local/lib/python3.11/dist-packages (from cellpose) (4.11.0.86)\n",
            "Requirement already satisfied: fastremap in /usr/local/lib/python3.11/dist-packages (from cellpose) (1.16.1)\n",
            "Requirement already satisfied: imagecodecs in /usr/local/lib/python3.11/dist-packages (from cellpose) (2025.3.30)\n",
            "Requirement already satisfied: roifile in /usr/local/lib/python3.11/dist-packages (from cellpose) (2025.5.10)\n",
            "Requirement already satisfied: fill-voids in /usr/local/lib/python3.11/dist-packages (from cellpose) (2.0.8)\n",
            "Requirement already satisfied: segment_anything in /usr/local/lib/python3.11/dist-packages (from cellpose) (1.0)\n",
            "Requirement already satisfied: networkx>=3.0 in /usr/local/lib/python3.11/dist-packages (from scikit-image) (3.5)\n",
            "Requirement already satisfied: pillow>=10.1 in /usr/local/lib/python3.11/dist-packages (from scikit-image) (11.2.1)\n",
            "Requirement already satisfied: imageio!=2.35.0,>=2.33 in /usr/local/lib/python3.11/dist-packages (from scikit-image) (2.37.0)\n",
            "Requirement already satisfied: packaging>=21 in /usr/local/lib/python3.11/dist-packages (from scikit-image) (24.2)\n",
            "Requirement already satisfied: lazy-loader>=0.4 in /usr/local/lib/python3.11/dist-packages (from scikit-image) (0.4)\n",
            "Requirement already satisfied: filelock in /usr/local/lib/python3.11/dist-packages (from torch>=1.6->cellpose) (3.18.0)\n",
            "Requirement already satisfied: typing-extensions>=4.10.0 in /usr/local/lib/python3.11/dist-packages (from torch>=1.6->cellpose) (4.13.2)\n",
            "Requirement already satisfied: jinja2 in /usr/local/lib/python3.11/dist-packages (from torch>=1.6->cellpose) (3.1.6)\n",
            "Requirement already satisfied: fsspec in /usr/local/lib/python3.11/dist-packages (from torch>=1.6->cellpose) (2025.3.2)\n",
            "Requirement already satisfied: nvidia-cuda-nvrtc-cu12==12.4.127 in /usr/local/lib/python3.11/dist-packages (from torch>=1.6->cellpose) (12.4.127)\n",
            "Requirement already satisfied: nvidia-cuda-runtime-cu12==12.4.127 in /usr/local/lib/python3.11/dist-packages (from torch>=1.6->cellpose) (12.4.127)\n",
            "Requirement already satisfied: nvidia-cuda-cupti-cu12==12.4.127 in /usr/local/lib/python3.11/dist-packages (from torch>=1.6->cellpose) (12.4.127)\n",
            "Requirement already satisfied: nvidia-cudnn-cu12==9.1.0.70 in /usr/local/lib/python3.11/dist-packages (from torch>=1.6->cellpose) (9.1.0.70)\n",
            "Requirement already satisfied: nvidia-cublas-cu12==12.4.5.8 in /usr/local/lib/python3.11/dist-packages (from torch>=1.6->cellpose) (12.4.5.8)\n",
            "Requirement already satisfied: nvidia-cufft-cu12==11.2.1.3 in /usr/local/lib/python3.11/dist-packages (from torch>=1.6->cellpose) (11.2.1.3)\n",
            "Requirement already satisfied: nvidia-curand-cu12==10.3.5.147 in /usr/local/lib/python3.11/dist-packages (from torch>=1.6->cellpose) (10.3.5.147)\n",
            "Requirement already satisfied: nvidia-cusolver-cu12==11.6.1.9 in /usr/local/lib/python3.11/dist-packages (from torch>=1.6->cellpose) (11.6.1.9)\n",
            "Requirement already satisfied: nvidia-cusparse-cu12==12.3.1.170 in /usr/local/lib/python3.11/dist-packages (from torch>=1.6->cellpose) (12.3.1.170)\n",
            "Requirement already satisfied: nvidia-cusparselt-cu12==0.6.2 in /usr/local/lib/python3.11/dist-packages (from torch>=1.6->cellpose) (0.6.2)\n",
            "Requirement already satisfied: nvidia-nccl-cu12==2.21.5 in /usr/local/lib/python3.11/dist-packages (from torch>=1.6->cellpose) (2.21.5)\n",
            "Requirement already satisfied: nvidia-nvtx-cu12==12.4.127 in /usr/local/lib/python3.11/dist-packages (from torch>=1.6->cellpose) (12.4.127)\n",
            "Requirement already satisfied: nvidia-nvjitlink-cu12==12.4.127 in /usr/local/lib/python3.11/dist-packages (from torch>=1.6->cellpose) (12.4.127)\n",
            "Requirement already satisfied: triton==3.2.0 in /usr/local/lib/python3.11/dist-packages (from torch>=1.6->cellpose) (3.2.0)\n",
            "Requirement already satisfied: sympy==1.13.1 in /usr/local/lib/python3.11/dist-packages (from torch>=1.6->cellpose) (1.13.1)\n",
            "Requirement already satisfied: mpmath<1.4,>=1.1.0 in /usr/local/lib/python3.11/dist-packages (from sympy==1.13.1->torch>=1.6->cellpose) (1.3.0)\n",
            "Requirement already satisfied: MarkupSafe>=2.0 in /usr/local/lib/python3.11/dist-packages (from jinja2->torch>=1.6->cellpose) (3.0.2)\n"
          ]
        }
      ],
      "source": [
        "!pip install cellpose tifffile scikit-image"
      ]
    },
    {
      "cell_type": "code",
      "execution_count": 5,
      "id": "b88126f4",
      "metadata": {
        "colab": {
          "base_uri": "https://localhost:8080/"
        },
        "id": "b88126f4",
        "outputId": "6a1485fc-c266-45b5-e382-a188985263b0"
      },
      "outputs": [
        {
          "output_type": "stream",
          "name": "stdout",
          "text": [
            "\n",
            "\n",
            "Welcome to CellposeSAM, cellpose v\n",
            "cellpose version: \t4.0.4 \n",
            "platform:       \tlinux \n",
            "python version: \t3.11.12 \n",
            "torch version:  \t2.6.0+cu124! The neural network component of\n",
            "CPSAM is much larger than in previous versions and CPU excution is slow. \n",
            "We encourage users to use GPU/MPS if available. \n",
            "\n",
            "\n"
          ]
        }
      ],
      "source": [
        "from Load_tiffs import Segmentator\n",
        "import tifffile\n",
        "import napari\n",
        "import numpy as np"
      ]
    },
    {
      "cell_type": "markdown",
      "id": "e8c3514f-bc5a-456f-982e-7273eb36f5ac",
      "metadata": {
        "id": "e8c3514f-bc5a-456f-982e-7273eb36f5ac"
      },
      "source": [
        "Select the parameters that best fit your data."
      ]
    },
    {
      "cell_type": "code",
      "execution_count": 6,
      "id": "2a4ef721-f532-4970-a529-8fe5e5a232f8",
      "metadata": {
        "colab": {
          "base_uri": "https://localhost:8080/"
        },
        "id": "2a4ef721-f532-4970-a529-8fe5e5a232f8",
        "outputId": "33cd2ea4-4947-4bd4-a610-94dc6c688709"
      },
      "outputs": [
        {
          "output_type": "stream",
          "name": "stderr",
          "text": [
            "WARNING:cellpose.models:model_type argument is not used in v4.0.1+. Ignoring this argument...\n"
          ]
        }
      ],
      "source": [
        "segmentator = Segmentator(\n",
        "    segmentation_type=2,\n",
        "    cell_diameter=100,\n",
        "    model_type='cyto3',\n",
        "    flow_threshold = 0.3,\n",
        "    stitch_threshold = 0.1,\n",
        "    skip=False,\n",
        "    use_gpu=True\n",
        ")"
      ]
    },
    {
      "cell_type": "code",
      "execution_count": 7,
      "id": "d355c74c",
      "metadata": {
        "colab": {
          "base_uri": "https://localhost:8080/",
          "height": 285
        },
        "id": "d355c74c",
        "outputId": "e4ad5658-2bfe-4ea1-a245-2cf652a5893b"
      },
      "outputs": [
        {
          "output_type": "display_data",
          "data": {
            "text/plain": [
              "<IPython.core.display.HTML object>"
            ],
            "text/html": [
              "\n",
              "     <input type=\"file\" id=\"files-25978169-d093-4724-899d-66e2797415d5\" name=\"files[]\" multiple disabled\n",
              "        style=\"border:none\" />\n",
              "     <output id=\"result-25978169-d093-4724-899d-66e2797415d5\">\n",
              "      Upload widget is only available when the cell has been executed in the\n",
              "      current browser session. Please rerun this cell to enable.\n",
              "      </output>\n",
              "      <script>// Copyright 2017 Google LLC\n",
              "//\n",
              "// Licensed under the Apache License, Version 2.0 (the \"License\");\n",
              "// you may not use this file except in compliance with the License.\n",
              "// You may obtain a copy of the License at\n",
              "//\n",
              "//      http://www.apache.org/licenses/LICENSE-2.0\n",
              "//\n",
              "// Unless required by applicable law or agreed to in writing, software\n",
              "// distributed under the License is distributed on an \"AS IS\" BASIS,\n",
              "// WITHOUT WARRANTIES OR CONDITIONS OF ANY KIND, either express or implied.\n",
              "// See the License for the specific language governing permissions and\n",
              "// limitations under the License.\n",
              "\n",
              "/**\n",
              " * @fileoverview Helpers for google.colab Python module.\n",
              " */\n",
              "(function(scope) {\n",
              "function span(text, styleAttributes = {}) {\n",
              "  const element = document.createElement('span');\n",
              "  element.textContent = text;\n",
              "  for (const key of Object.keys(styleAttributes)) {\n",
              "    element.style[key] = styleAttributes[key];\n",
              "  }\n",
              "  return element;\n",
              "}\n",
              "\n",
              "// Max number of bytes which will be uploaded at a time.\n",
              "const MAX_PAYLOAD_SIZE = 100 * 1024;\n",
              "\n",
              "function _uploadFiles(inputId, outputId) {\n",
              "  const steps = uploadFilesStep(inputId, outputId);\n",
              "  const outputElement = document.getElementById(outputId);\n",
              "  // Cache steps on the outputElement to make it available for the next call\n",
              "  // to uploadFilesContinue from Python.\n",
              "  outputElement.steps = steps;\n",
              "\n",
              "  return _uploadFilesContinue(outputId);\n",
              "}\n",
              "\n",
              "// This is roughly an async generator (not supported in the browser yet),\n",
              "// where there are multiple asynchronous steps and the Python side is going\n",
              "// to poll for completion of each step.\n",
              "// This uses a Promise to block the python side on completion of each step,\n",
              "// then passes the result of the previous step as the input to the next step.\n",
              "function _uploadFilesContinue(outputId) {\n",
              "  const outputElement = document.getElementById(outputId);\n",
              "  const steps = outputElement.steps;\n",
              "\n",
              "  const next = steps.next(outputElement.lastPromiseValue);\n",
              "  return Promise.resolve(next.value.promise).then((value) => {\n",
              "    // Cache the last promise value to make it available to the next\n",
              "    // step of the generator.\n",
              "    outputElement.lastPromiseValue = value;\n",
              "    return next.value.response;\n",
              "  });\n",
              "}\n",
              "\n",
              "/**\n",
              " * Generator function which is called between each async step of the upload\n",
              " * process.\n",
              " * @param {string} inputId Element ID of the input file picker element.\n",
              " * @param {string} outputId Element ID of the output display.\n",
              " * @return {!Iterable<!Object>} Iterable of next steps.\n",
              " */\n",
              "function* uploadFilesStep(inputId, outputId) {\n",
              "  const inputElement = document.getElementById(inputId);\n",
              "  inputElement.disabled = false;\n",
              "\n",
              "  const outputElement = document.getElementById(outputId);\n",
              "  outputElement.innerHTML = '';\n",
              "\n",
              "  const pickedPromise = new Promise((resolve) => {\n",
              "    inputElement.addEventListener('change', (e) => {\n",
              "      resolve(e.target.files);\n",
              "    });\n",
              "  });\n",
              "\n",
              "  const cancel = document.createElement('button');\n",
              "  inputElement.parentElement.appendChild(cancel);\n",
              "  cancel.textContent = 'Cancel upload';\n",
              "  const cancelPromise = new Promise((resolve) => {\n",
              "    cancel.onclick = () => {\n",
              "      resolve(null);\n",
              "    };\n",
              "  });\n",
              "\n",
              "  // Wait for the user to pick the files.\n",
              "  const files = yield {\n",
              "    promise: Promise.race([pickedPromise, cancelPromise]),\n",
              "    response: {\n",
              "      action: 'starting',\n",
              "    }\n",
              "  };\n",
              "\n",
              "  cancel.remove();\n",
              "\n",
              "  // Disable the input element since further picks are not allowed.\n",
              "  inputElement.disabled = true;\n",
              "\n",
              "  if (!files) {\n",
              "    return {\n",
              "      response: {\n",
              "        action: 'complete',\n",
              "      }\n",
              "    };\n",
              "  }\n",
              "\n",
              "  for (const file of files) {\n",
              "    const li = document.createElement('li');\n",
              "    li.append(span(file.name, {fontWeight: 'bold'}));\n",
              "    li.append(span(\n",
              "        `(${file.type || 'n/a'}) - ${file.size} bytes, ` +\n",
              "        `last modified: ${\n",
              "            file.lastModifiedDate ? file.lastModifiedDate.toLocaleDateString() :\n",
              "                                    'n/a'} - `));\n",
              "    const percent = span('0% done');\n",
              "    li.appendChild(percent);\n",
              "\n",
              "    outputElement.appendChild(li);\n",
              "\n",
              "    const fileDataPromise = new Promise((resolve) => {\n",
              "      const reader = new FileReader();\n",
              "      reader.onload = (e) => {\n",
              "        resolve(e.target.result);\n",
              "      };\n",
              "      reader.readAsArrayBuffer(file);\n",
              "    });\n",
              "    // Wait for the data to be ready.\n",
              "    let fileData = yield {\n",
              "      promise: fileDataPromise,\n",
              "      response: {\n",
              "        action: 'continue',\n",
              "      }\n",
              "    };\n",
              "\n",
              "    // Use a chunked sending to avoid message size limits. See b/62115660.\n",
              "    let position = 0;\n",
              "    do {\n",
              "      const length = Math.min(fileData.byteLength - position, MAX_PAYLOAD_SIZE);\n",
              "      const chunk = new Uint8Array(fileData, position, length);\n",
              "      position += length;\n",
              "\n",
              "      const base64 = btoa(String.fromCharCode.apply(null, chunk));\n",
              "      yield {\n",
              "        response: {\n",
              "          action: 'append',\n",
              "          file: file.name,\n",
              "          data: base64,\n",
              "        },\n",
              "      };\n",
              "\n",
              "      let percentDone = fileData.byteLength === 0 ?\n",
              "          100 :\n",
              "          Math.round((position / fileData.byteLength) * 100);\n",
              "      percent.textContent = `${percentDone}% done`;\n",
              "\n",
              "    } while (position < fileData.byteLength);\n",
              "  }\n",
              "\n",
              "  // All done.\n",
              "  yield {\n",
              "    response: {\n",
              "      action: 'complete',\n",
              "    }\n",
              "  };\n",
              "}\n",
              "\n",
              "scope.google = scope.google || {};\n",
              "scope.google.colab = scope.google.colab || {};\n",
              "scope.google.colab._files = {\n",
              "  _uploadFiles,\n",
              "  _uploadFilesContinue,\n",
              "};\n",
              "})(self);\n",
              "</script> "
            ]
          },
          "metadata": {}
        },
        {
          "output_type": "error",
          "ename": "IndexError",
          "evalue": "list index out of range",
          "traceback": [
            "\u001b[0;31m---------------------------------------------------------------------------\u001b[0m",
            "\u001b[0;31mIndexError\u001b[0m                                Traceback (most recent call last)",
            "\u001b[0;32m<ipython-input-7-7fa681d25aed>\u001b[0m in \u001b[0;36m<cell line: 0>\u001b[0;34m()\u001b[0m\n\u001b[0;32m----> 1\u001b[0;31m \u001b[0mimage\u001b[0m \u001b[0;34m=\u001b[0m \u001b[0msegmentator\u001b[0m\u001b[0;34m.\u001b[0m\u001b[0mload_images\u001b[0m\u001b[0;34m(\u001b[0m\u001b[0;34m)\u001b[0m\u001b[0;34m\u001b[0m\u001b[0;34m\u001b[0m\u001b[0m\n\u001b[0m",
            "\u001b[0;32m/content/3D_cell_segmentation_Cellpose/Load_tiffs.py\u001b[0m in \u001b[0;36mload_images\u001b[0;34m(self)\u001b[0m\n\u001b[1;32m     48\u001b[0m         \u001b[0mfilenames\u001b[0m \u001b[0;34m=\u001b[0m \u001b[0mlist\u001b[0m\u001b[0;34m(\u001b[0m\u001b[0muploaded\u001b[0m\u001b[0;34m.\u001b[0m\u001b[0mkeys\u001b[0m\u001b[0;34m(\u001b[0m\u001b[0;34m)\u001b[0m\u001b[0;34m)\u001b[0m\u001b[0;34m\u001b[0m\u001b[0;34m\u001b[0m\u001b[0m\n\u001b[1;32m     49\u001b[0m         \u001b[0;31m# Load the two TIFF stacks\u001b[0m\u001b[0;34m\u001b[0m\u001b[0;34m\u001b[0m\u001b[0m\n\u001b[0;32m---> 50\u001b[0;31m         \u001b[0mcyto\u001b[0m \u001b[0;34m=\u001b[0m \u001b[0mtifffile\u001b[0m\u001b[0;34m.\u001b[0m\u001b[0mimread\u001b[0m\u001b[0;34m(\u001b[0m\u001b[0mio\u001b[0m\u001b[0;34m.\u001b[0m\u001b[0mBytesIO\u001b[0m\u001b[0;34m(\u001b[0m\u001b[0muploaded\u001b[0m\u001b[0;34m[\u001b[0m\u001b[0mfilenames\u001b[0m\u001b[0;34m[\u001b[0m\u001b[0;36m0\u001b[0m\u001b[0;34m]\u001b[0m\u001b[0;34m]\u001b[0m\u001b[0;34m)\u001b[0m\u001b[0;34m)\u001b[0m\u001b[0;34m\u001b[0m\u001b[0;34m\u001b[0m\u001b[0m\n\u001b[0m\u001b[1;32m     51\u001b[0m         \u001b[0mauto\u001b[0m \u001b[0;34m=\u001b[0m \u001b[0mtifffile\u001b[0m\u001b[0;34m.\u001b[0m\u001b[0mimread\u001b[0m\u001b[0;34m(\u001b[0m\u001b[0mio\u001b[0m\u001b[0;34m.\u001b[0m\u001b[0mBytesIO\u001b[0m\u001b[0;34m(\u001b[0m\u001b[0muploaded\u001b[0m\u001b[0;34m[\u001b[0m\u001b[0mfilenames\u001b[0m\u001b[0;34m[\u001b[0m\u001b[0;36m1\u001b[0m\u001b[0;34m]\u001b[0m\u001b[0;34m]\u001b[0m\u001b[0;34m)\u001b[0m\u001b[0;34m)\u001b[0m\u001b[0;34m\u001b[0m\u001b[0;34m\u001b[0m\u001b[0m\n\u001b[1;32m     52\u001b[0m \u001b[0;34m\u001b[0m\u001b[0m\n",
            "\u001b[0;31mIndexError\u001b[0m: list index out of range"
          ]
        }
      ],
      "source": [
        "image = segmentator.load_images()"
      ]
    },
    {
      "cell_type": "code",
      "execution_count": 6,
      "id": "340c952e",
      "metadata": {
        "colab": {
          "base_uri": "https://localhost:8080/"
        },
        "id": "340c952e",
        "outputId": "62a87be8-a99b-4ca9-97a8-cf0908bf0705"
      },
      "outputs": [
        {
          "output_type": "stream",
          "name": "stderr",
          "text": [
            "WARNING:cellpose.models:channels deprecated in v4.0.1+. If data contain more than 3 channels, only the first 3 channels will be used\n",
            "WARNING:cellpose.models:channels deprecated in v4.0.1+. If data contain more than 3 channels, only the first 3 channels will be used\n",
            "WARNING:cellpose.models:channels deprecated in v4.0.1+. If data contain more than 3 channels, only the first 3 channels will be used\n",
            "WARNING:cellpose.models:channels deprecated in v4.0.1+. If data contain more than 3 channels, only the first 3 channels will be used\n",
            "WARNING:cellpose.models:channels deprecated in v4.0.1+. If data contain more than 3 channels, only the first 3 channels will be used\n",
            "WARNING:cellpose.models:channels deprecated in v4.0.1+. If data contain more than 3 channels, only the first 3 channels will be used\n",
            "WARNING:cellpose.models:channels deprecated in v4.0.1+. If data contain more than 3 channels, only the first 3 channels will be used\n",
            "WARNING:cellpose.models:channels deprecated in v4.0.1+. If data contain more than 3 channels, only the first 3 channels will be used\n",
            "WARNING:cellpose.models:channels deprecated in v4.0.1+. If data contain more than 3 channels, only the first 3 channels will be used\n",
            "WARNING:cellpose.models:channels deprecated in v4.0.1+. If data contain more than 3 channels, only the first 3 channels will be used\n",
            "WARNING:cellpose.models:channels deprecated in v4.0.1+. If data contain more than 3 channels, only the first 3 channels will be used\n",
            "WARNING:cellpose.models:channels deprecated in v4.0.1+. If data contain more than 3 channels, only the first 3 channels will be used\n",
            "WARNING:cellpose.models:channels deprecated in v4.0.1+. If data contain more than 3 channels, only the first 3 channels will be used\n",
            "WARNING:cellpose.models:channels deprecated in v4.0.1+. If data contain more than 3 channels, only the first 3 channels will be used\n",
            "WARNING:cellpose.models:channels deprecated in v4.0.1+. If data contain more than 3 channels, only the first 3 channels will be used\n",
            "WARNING:cellpose.models:channels deprecated in v4.0.1+. If data contain more than 3 channels, only the first 3 channels will be used\n",
            "WARNING:cellpose.models:channels deprecated in v4.0.1+. If data contain more than 3 channels, only the first 3 channels will be used\n",
            "WARNING:cellpose.models:channels deprecated in v4.0.1+. If data contain more than 3 channels, only the first 3 channels will be used\n",
            "WARNING:cellpose.models:channels deprecated in v4.0.1+. If data contain more than 3 channels, only the first 3 channels will be used\n",
            "WARNING:cellpose.models:channels deprecated in v4.0.1+. If data contain more than 3 channels, only the first 3 channels will be used\n",
            "WARNING:cellpose.models:channels deprecated in v4.0.1+. If data contain more than 3 channels, only the first 3 channels will be used\n"
          ]
        }
      ],
      "source": [
        "masks_3d = segmentator.segmentate_image(image)"
      ]
    },
    {
      "cell_type": "code",
      "execution_count": null,
      "id": "b29f9de2",
      "metadata": {
        "id": "b29f9de2"
      },
      "outputs": [],
      "source": [
        "tifffile.imwrite('cell_masks_2d.tif', masks_3d.astype(np.uint16))\n",
        "tifffile.imwrite('cell_masks_2d.tif', image.astype(np.uint16))"
      ]
    },
    {
      "cell_type": "code",
      "execution_count": 1,
      "id": "a9fdad91",
      "metadata": {
        "colab": {
          "base_uri": "https://localhost:8080/",
          "height": 386
        },
        "id": "a9fdad91",
        "outputId": "b42db686-0444-40c4-e58a-e714f29fb237"
      },
      "outputs": [
        {
          "output_type": "error",
          "ename": "ModuleNotFoundError",
          "evalue": "No module named 'ipyvolume'",
          "traceback": [
            "\u001b[0;31m---------------------------------------------------------------------------\u001b[0m",
            "\u001b[0;31mModuleNotFoundError\u001b[0m                       Traceback (most recent call last)",
            "\u001b[0;32m<ipython-input-1-95418c134418>\u001b[0m in \u001b[0;36m<cell line: 0>\u001b[0;34m()\u001b[0m\n\u001b[0;32m----> 1\u001b[0;31m \u001b[0;32mimport\u001b[0m \u001b[0mipyvolume\u001b[0m \u001b[0;32mas\u001b[0m \u001b[0mipv\u001b[0m\u001b[0;34m\u001b[0m\u001b[0;34m\u001b[0m\u001b[0m\n\u001b[0m\u001b[1;32m      2\u001b[0m \u001b[0;32mimport\u001b[0m \u001b[0mnumpy\u001b[0m \u001b[0;32mas\u001b[0m \u001b[0mnp\u001b[0m\u001b[0;34m\u001b[0m\u001b[0;34m\u001b[0m\u001b[0m\n\u001b[1;32m      3\u001b[0m \u001b[0;34m\u001b[0m\u001b[0m\n\u001b[1;32m      4\u001b[0m \u001b[0mipv\u001b[0m\u001b[0;34m.\u001b[0m\u001b[0mfigure\u001b[0m\u001b[0;34m(\u001b[0m\u001b[0;34m)\u001b[0m\u001b[0;34m\u001b[0m\u001b[0;34m\u001b[0m\u001b[0m\n\u001b[1;32m      5\u001b[0m \u001b[0mipv\u001b[0m\u001b[0;34m.\u001b[0m\u001b[0mvolshow\u001b[0m\u001b[0;34m(\u001b[0m\u001b[0mmasks_3d\u001b[0m\u001b[0;34m,\u001b[0m \u001b[0mlevel\u001b[0m\u001b[0;34m=\u001b[0m\u001b[0;36m1\u001b[0m\u001b[0;34m)\u001b[0m\u001b[0;34m\u001b[0m\u001b[0;34m\u001b[0m\u001b[0m\n",
            "\u001b[0;31mModuleNotFoundError\u001b[0m: No module named 'ipyvolume'",
            "",
            "\u001b[0;31m---------------------------------------------------------------------------\u001b[0;32m\nNOTE: If your import is failing due to a missing package, you can\nmanually install dependencies using either !pip or !apt.\n\nTo view examples of installing some common dependencies, click the\n\"Open Examples\" button below.\n\u001b[0;31m---------------------------------------------------------------------------\u001b[0m\n"
          ],
          "errorDetails": {
            "actions": [
              {
                "action": "open_url",
                "actionText": "Open Examples",
                "url": "/notebooks/snippets/importing_libraries.ipynb"
              }
            ]
          }
        }
      ],
      "source": [
        "import plotly.graph_objects as go\n",
        "import numpy as np\n",
        "\n",
        "# Assume 'label_volume' is your 3D numpy array of labeled masks\n",
        "# Example: load it\n",
        "# label_volume = np.load(\"label_mask.npy\") or from tifffile.imread()\n",
        "\n",
        "fig = go.Figure(data=go.Volume(\n",
        "    x=np.repeat(np.arange(label_volume.shape[2]), label_volume.shape[1]*label_volume.shape[0]),\n",
        "    y=np.tile(np.repeat(np.arange(label_volume.shape[1]), label_volume.shape[0]), label_volume.shape[2]),\n",
        "    z=np.tile(np.arange(label_volume.shape[0]), label_volume.shape[1]*label_volume.shape[2]),\n",
        "    value=label_volume.flatten(),\n",
        "    opacity=0.1,  # lower = more transparent\n",
        "    surface_count=20,  # number of isosurfaces\n",
        "))\n",
        "\n",
        "fig.update_layout(scene=dict(\n",
        "    xaxis_title='X',\n",
        "    yaxis_title='Y',\n",
        "    zaxis_title='Z'\n",
        "))\n",
        "fig.show()"
      ]
    },
    {
      "cell_type": "markdown",
      "id": "a7c9204c-8844-44ca-9c96-09267aa4d2c2",
      "metadata": {
        "id": "a7c9204c-8844-44ca-9c96-09267aa4d2c2"
      },
      "source": [
        "2. Calculate cell volume and diameter."
      ]
    },
    {
      "cell_type": "code",
      "execution_count": null,
      "id": "e3bdfda6-a7cc-498d-b1e1-a1d875fc0375",
      "metadata": {
        "id": "e3bdfda6-a7cc-498d-b1e1-a1d875fc0375"
      },
      "outputs": [],
      "source": [
        "import pandas as pd\n",
        "import matplotlib.pyplot as plt"
      ]
    },
    {
      "cell_type": "code",
      "execution_count": null,
      "id": "a10c83e1-3db7-4223-8582-a0a8eb3ab200",
      "metadata": {
        "id": "a10c83e1-3db7-4223-8582-a0a8eb3ab200"
      },
      "outputs": [],
      "source": [
        "# Exclude background (label 0)\n",
        "labels = np.unique(masks_3d)\n",
        "labels = labels[labels != 0]\n",
        "\n",
        "# Count voxels per label\n",
        "voxel_counts = [(label, np.sum(masks_3d == label)) for label in labels] #(label_id, voxel_count)"
      ]
    },
    {
      "cell_type": "code",
      "execution_count": null,
      "id": "3504bb1d-1eeb-48ab-9b61-6c0a9fcd6cbe",
      "metadata": {
        "id": "3504bb1d-1eeb-48ab-9b61-6c0a9fcd6cbe",
        "outputId": "4ae9622a-7cb3-43c4-e5f9-f3e1c24d22e3"
      },
      "outputs": [
        {
          "data": {
            "text/html": [
              "<div>\n",
              "<style scoped>\n",
              "    .dataframe tbody tr th:only-of-type {\n",
              "        vertical-align: middle;\n",
              "    }\n",
              "\n",
              "    .dataframe tbody tr th {\n",
              "        vertical-align: top;\n",
              "    }\n",
              "\n",
              "    .dataframe thead th {\n",
              "        text-align: right;\n",
              "    }\n",
              "</style>\n",
              "<table border=\"1\" class=\"dataframe\">\n",
              "  <thead>\n",
              "    <tr style=\"text-align: right;\">\n",
              "      <th></th>\n",
              "      <th>label</th>\n",
              "      <th>voxel_count</th>\n",
              "      <th>volume_um3</th>\n",
              "    </tr>\n",
              "  </thead>\n",
              "  <tbody>\n",
              "    <tr>\n",
              "      <th>0</th>\n",
              "      <td>1</td>\n",
              "      <td>48154</td>\n",
              "      <td>12038.50</td>\n",
              "    </tr>\n",
              "    <tr>\n",
              "      <th>1</th>\n",
              "      <td>2</td>\n",
              "      <td>98298</td>\n",
              "      <td>24574.50</td>\n",
              "    </tr>\n",
              "    <tr>\n",
              "      <th>2</th>\n",
              "      <td>3</td>\n",
              "      <td>40819</td>\n",
              "      <td>10204.75</td>\n",
              "    </tr>\n",
              "    <tr>\n",
              "      <th>3</th>\n",
              "      <td>4</td>\n",
              "      <td>45687</td>\n",
              "      <td>11421.75</td>\n",
              "    </tr>\n",
              "    <tr>\n",
              "      <th>4</th>\n",
              "      <td>5</td>\n",
              "      <td>100069</td>\n",
              "      <td>25017.25</td>\n",
              "    </tr>\n",
              "  </tbody>\n",
              "</table>\n",
              "</div>"
            ],
            "text/plain": [
              "   label  voxel_count  volume_um3\n",
              "0      1        48154    12038.50\n",
              "1      2        98298    24574.50\n",
              "2      3        40819    10204.75\n",
              "3      4        45687    11421.75\n",
              "4      5       100069    25017.25"
            ]
          },
          "execution_count": 9,
          "metadata": {},
          "output_type": "execute_result"
        }
      ],
      "source": [
        "z_spacing = 1.0     # in microns (change to your actual value)\n",
        "xy_spacing = 0.5    # in microns\n",
        "\n",
        "voxel_volume_um3 = z_spacing * xy_spacing * xy_spacing\n",
        "\n",
        "data = {\n",
        "    'label': [label for label, count in voxel_counts],\n",
        "    'voxel_count': [count for label, count in voxel_counts],\n",
        "    'volume_um3': [count * voxel_volume_um3 for label, count in voxel_counts]\n",
        "}\n",
        "\n",
        "df = pd.DataFrame(data)\n",
        "df.head()"
      ]
    },
    {
      "cell_type": "code",
      "execution_count": null,
      "id": "fa1db682-f8db-48b5-8781-09de2fe82fb3",
      "metadata": {
        "id": "fa1db682-f8db-48b5-8781-09de2fe82fb3"
      },
      "outputs": [],
      "source": [
        "# Save to CSV\n",
        "csv_path = 'cell_volumes.csv'\n",
        "df.to_csv(csv_path, index=False)"
      ]
    },
    {
      "cell_type": "code",
      "execution_count": null,
      "id": "30339828-9722-46b3-9edb-a5007913a8bc",
      "metadata": {
        "id": "30339828-9722-46b3-9edb-a5007913a8bc",
        "outputId": "a4fd2b39-ab44-465f-d8f6-f299ac289841"
      },
      "outputs": [
        {
          "data": {
            "image/png": "[encoded data removed]",
            "text/plain": [
              "<Figure size 640x480 with 1 Axes>"
            ]
          },
          "metadata": {},
          "output_type": "display_data"
        }
      ],
      "source": [
        "# Plot histogram of volumes\n",
        "plt.figure()\n",
        "plt.hist(df['volume_um3'], bins=30)\n",
        "plt.xlabel('Cell Volume (µm³)')\n",
        "plt.ylabel('Number of Cells')\n",
        "plt.title('Distribution of Cell Volumes')\n",
        "plt.grid(True)\n",
        "plt.show()"
      ]
    },
    {
      "cell_type": "code",
      "execution_count": null,
      "id": "ca8343a5-e3da-4571-b3bd-36c92dd55f74",
      "metadata": {
        "id": "ca8343a5-e3da-4571-b3bd-36c92dd55f74"
      },
      "outputs": [],
      "source": []
    }
  ],
  "metadata": {
    "kernelspec": {
      "display_name": "Python 3",
      "name": "python3"
    },
    "language_info": {
      "codemirror_mode": {
        "name": "ipython",
        "version": 3
      },
      "file_extension": ".py",
      "mimetype": "text/x-python",
      "name": "python",
      "nbconvert_exporter": "python",
      "pygments_lexer": "ipython3",
      "version": "3.10.17"
    },
    "colab": {
      "provenance": [],
      "gpuType": "T4",
      "include_colab_link": true
    },
    "accelerator": "GPU"
  },
  "nbformat": 4,
  "nbformat_minor": 5
}