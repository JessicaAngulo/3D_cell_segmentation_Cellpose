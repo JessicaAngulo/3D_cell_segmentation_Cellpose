{
 "cells": [
  {
   "cell_type": "markdown",
   "id": "bd67f6c2-3da5-47da-bb7a-e8e5915c9b55",
   "metadata": {},
   "source": [
    "1) Segmentation"
   ]
  },
  {
   "cell_type": "code",
   "execution_count": 1,
   "id": "a05a169a",
   "metadata": {},
   "outputs": [],
   "source": [
    "# !pip install cellpose tifffile napari[all] scikit-image"
   ]
  },
  {
   "cell_type": "code",
   "execution_count": 1,
   "id": "b88126f4",
   "metadata": {},
   "outputs": [],
   "source": [
    "from Load_tiffs import Segmentator\n",
    "import tifffile\n",
    "import napari\n",
    "import numpy as np"
   ]
  },
  {
   "cell_type": "markdown",
   "id": "e8c3514f-bc5a-456f-982e-7273eb36f5ac",
   "metadata": {},
   "source": [
    "Select the parameters that best fit your data. "
   ]
  },
  {
   "cell_type": "code",
   "execution_count": 2,
   "id": "2a4ef721-f532-4970-a529-8fe5e5a232f8",
   "metadata": {},
   "outputs": [],
   "source": [
    "segmentator = Segmentator(\n",
    "    segmentation_type=2, \n",
    "    cell_diameter=100,\n",
    "    model_type='cyto3',\n",
    "    flow_threshold = 0.3,\n",
    "    stitch_threshold = 0.1,\n",
    "    skip=False,\n",
    "    use_gpu=True\n",
    ")"
   ]
  },
  {
   "cell_type": "code",
   "execution_count": 3,
   "id": "d355c74c",
   "metadata": {},
   "outputs": [],
   "source": [
    "image = segmentator.load_images()"
   ]
  },
  {
   "cell_type": "code",
   "execution_count": 4,
   "id": "340c952e",
   "metadata": {},
   "outputs": [],
   "source": [
    "masks_3d = segmentator.segmentate_image(image)"
   ]
  },
  {
   "cell_type": "code",
   "execution_count": 5,
   "id": "b29f9de2",
   "metadata": {},
   "outputs": [],
   "source": [
    "tifffile.imwrite('cell_masks_2d.tif', masks_3d.astype(np.uint16))\n",
    "tifffile.imwrite('cell_masks_2d.tif', image.astype(np.uint16))"
   ]
  },
  {
   "cell_type": "code",
   "execution_count": 6,
   "id": "a9fdad91",
   "metadata": {},
   "outputs": [],
   "source": [
    "viewer = napari.Viewer()\n",
    "viewer.add_image(image, name='raw', channel_axis=-1)\n",
    "viewer.add_labels(masks_3d, name='cell mask 3d')\n",
    "napari.run()"
   ]
  },
  {
   "cell_type": "markdown",
   "id": "8c9c56c5-0a01-4e24-abe4-3e77d204e0c9",
   "metadata": {},
   "source": [
    "1.2) If the segmentation is not appropriate, try to refine the model. \n",
    "Manual annotation"
   ]
  },
  {
   "cell_type": "code",
   "execution_count": 7,
   "id": "11afc633-c9f5-4355-90e1-bee2d7907f5c",
   "metadata": {},
   "outputs": [],
   "source": [
    "# Open the napari GUI\n",
    "viewer = napari.Viewer()\n",
    "# Pick a specific slice\n",
    "z_index = 4\n",
    "image_2d = image[z_index, :, :, 1] \n",
    "# Add the image to napari\n",
    "viewer.add_image(image_2d, name='image')\n",
    "# Add an empty labels layer\n",
    "labels = np.zeros_like(image_2d, dtype=np.uint16)\n",
    "label_layer = viewer.add_labels(labels, name='masks')\n",
    "napari.run()"
   ]
  },
  {
   "cell_type": "markdown",
   "id": "8dbfa41a-4a5c-422f-8aea-5085fbf94319",
   "metadata": {},
   "source": [
    "Manually annotate the cells: \n",
    "1. Select the \"masks\" layer\n",
    "2. Select the \"Paint tool\"\n",
    "3. Use the label panel (bottom right) to change the label value\n",
    "4. Adjust the brush size as needed (top panel)"
   ]
  },
  {
   "cell_type": "code",
   "execution_count": 12,
   "id": "17be45ca-ad9b-4ed5-82bb-8ec87ccfc637",
   "metadata": {},
   "outputs": [],
   "source": [
    "from tifffile import imwrite"
   ]
  },
  {
   "cell_type": "code",
   "execution_count": 15,
   "id": "0858ff9b-2795-48a5-a5b4-644c204bd1b2",
   "metadata": {},
   "outputs": [],
   "source": [
    "# Save your annotations from the Notebook. You can repeate this step for more slices. Remember to change the image name. \n",
    "imwrite('training_data/image_02_masks.tif', label_layer.data.astype(np.uint16))\n",
    "imwrite('training_data/image_02.tif', image_2d.astype(np.uint16))"
   ]
  },
  {
   "cell_type": "code",
   "execution_count": null,
   "id": "8007d149-0cb4-40d2-8d0e-5633b05ae7ea",
   "metadata": {},
   "outputs": [],
   "source": [
    "Training: "
   ]
  },
  {
   "cell_type": "code",
   "execution_count": 10,
   "id": "ce5e69dd-5427-4b87-8392-1fb09462d420",
   "metadata": {},
   "outputs": [],
   "source": [
    "from cellpose import models\n",
    "model = models.CellposeModel(\n",
    "    gpu=True,\n",
    "    pretrained_model='cyto3'  # or None to train from scratch\n",
    ")"
   ]
  },
  {
   "cell_type": "code",
   "execution_count": 11,
   "id": "c19743e1-0787-42a8-8b85-2475d6de9a17",
   "metadata": {},
   "outputs": [
    {
     "name": "stdout",
     "output_type": "stream",
     "text": [
      "['__class__', '__delattr__', '__dict__', '__dir__', '__doc__', '__eq__', '__format__', '__ge__', '__getattribute__', '__gt__', '__hash__', '__init__', '__init_subclass__', '__le__', '__lt__', '__module__', '__ne__', '__new__', '__reduce__', '__reduce_ex__', '__repr__', '__setattr__', '__sizeof__', '__str__', '__subclasshook__', '__weakref__', '_compute_masks', '_run_net', 'device', 'diam_labels', 'diam_mean', 'eval', 'gpu', 'mkldnn', 'nbase', 'nchan', 'nclasses', 'net', 'net_ortho', 'net_type', 'pretrained_model']\n"
     ]
    }
   ],
   "source": [
    "print(dir(model))  # You should see 'train' in the list"
   ]
  },
  {
   "cell_type": "code",
   "execution_count": 8,
   "id": "0851386a-855f-4a65-b4df-91083060e4c4",
   "metadata": {},
   "outputs": [
    {
     "ename": "AttributeError",
     "evalue": "'CellposeModel' object has no attribute 'train'",
     "output_type": "error",
     "traceback": [
      "\u001b[0;31m---------------------------------------------------------------------------\u001b[0m",
      "\u001b[0;31mAttributeError\u001b[0m                            Traceback (most recent call last)",
      "Cell \u001b[0;32mIn[8], line 1\u001b[0m\n\u001b[0;32m----> 1\u001b[0m \u001b[43mmodel\u001b[49m\u001b[38;5;241;43m.\u001b[39;49m\u001b[43mtrain\u001b[49m(\n\u001b[1;32m      2\u001b[0m     train_dir\u001b[38;5;241m=\u001b[39m\u001b[38;5;124m'\u001b[39m\u001b[38;5;124mtraining_data\u001b[39m\u001b[38;5;124m'\u001b[39m,        \u001b[38;5;66;03m# folder with images + *_masks.tif\u001b[39;00m\n\u001b[1;32m      3\u001b[0m     model_name\u001b[38;5;241m=\u001b[39m\u001b[38;5;124m'\u001b[39m\u001b[38;5;124mcyto_refined\u001b[39m\u001b[38;5;124m'\u001b[39m,\n\u001b[1;32m      4\u001b[0m     channels\u001b[38;5;241m=\u001b[39m[\u001b[38;5;241m0\u001b[39m, \u001b[38;5;241m0\u001b[39m],                  \u001b[38;5;66;03m# channel 0 only\u001b[39;00m\n\u001b[1;32m      5\u001b[0m     save_path\u001b[38;5;241m=\u001b[39m\u001b[38;5;124m'\u001b[39m\u001b[38;5;124mtrained_models\u001b[39m\u001b[38;5;124m'\u001b[39m,       \u001b[38;5;66;03m# where to save model weights\u001b[39;00m\n\u001b[1;32m      6\u001b[0m     n_epochs\u001b[38;5;241m=\u001b[39m\u001b[38;5;241m100\u001b[39m,\n\u001b[1;32m      7\u001b[0m     learning_rate\u001b[38;5;241m=\u001b[39m\u001b[38;5;241m0.2\u001b[39m,\n\u001b[1;32m      8\u001b[0m     batch_size\u001b[38;5;241m=\u001b[39m\u001b[38;5;241m8\u001b[39m\n\u001b[1;32m      9\u001b[0m )\n",
      "\u001b[0;31mAttributeError\u001b[0m: 'CellposeModel' object has no attribute 'train'"
     ]
    }
   ],
   "source": [
    "model.train(\n",
    "    train_dir='training_data',        # folder with images + *_masks.tif\n",
    "    model_name='cyto_refined',\n",
    "    channels=[0, 0],                  # channel 0 only\n",
    "    save_path='trained_models',       # where to save model weights\n",
    "    n_epochs=100,\n",
    "    learning_rate=0.2,\n",
    "    batch_size=8\n",
    ")"
   ]
  },
  {
   "cell_type": "code",
   "execution_count": null,
   "id": "e548b2c4-4c40-4e2e-b6b6-1e9ab8f69e4c",
   "metadata": {},
   "outputs": [],
   "source": []
  }
 ],
 "metadata": {
  "kernelspec": {
   "display_name": "Python 3 (ipykernel)",
   "language": "python",
   "name": "python3"
  },
  "language_info": {
   "codemirror_mode": {
    "name": "ipython",
    "version": 3
   },
   "file_extension": ".py",
   "mimetype": "text/x-python",
   "name": "python",
   "nbconvert_exporter": "python",
   "pygments_lexer": "ipython3",
   "version": "3.10.17"
  }
 },
 "nbformat": 4,
 "nbformat_minor": 5
}
